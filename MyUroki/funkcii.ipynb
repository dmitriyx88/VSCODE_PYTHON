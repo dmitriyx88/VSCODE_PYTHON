{
 "nbformat": 4,
 "nbformat_minor": 2,
 "metadata": {
  "language_info": {
   "name": "python",
   "codemirror_mode": {
    "name": "ipython",
    "version": 3
   },
   "version": "3.8.1-final"
  },
  "orig_nbformat": 2,
  "file_extension": ".py",
  "mimetype": "text/x-python",
  "name": "python",
  "npconvert_exporter": "python",
  "pygments_lexer": "ipython3",
  "version": 3,
  "kernelspec": {
   "name": "python3",
   "display_name": "Python 3"
  }
 },
 "cells": [
  {
   "cell_type": "code",
   "outputs": [],
   "source": [
    "#FUNKCII"
   ],
   "metadata": {},
   "execution_count": null
  },
  {
   "source": [
    "#def\n",
    "\n",
    "def findV (d,sh,vus):                  # Obyavlenie funkcii s ee vnutrennimi parametrami\n",
    "    y=d*sh*vus                         # Telo funkcii\n",
    "    return y                           # Vozvrat znacheniya iz funkcii\n",
    "a=10; b=5; c=2\n",
    "V=findV(a,b,c)                         # Vuzov funkcii v formule i peredacha ei vneshnih peremennih\n",
    "print(f\"V tela={V}\")\n",
    "\n",
    "def nalogi(*args):               # prinimaet luboe kolichestvo peremennih (**kvargs prinimaet paru znachenie/kluch)\n",
    "    c=sum(args)                  # sumiruet prinyatie peremennie\n",
    "    c=c*1.2\n",
    "    return c\n",
    "print(nalogi(100,200,300,500))\n",
    "m = map(nalogi,[200,300,400,500,600,700])  # Prodvinutui vusov funkcii. Vupolnyaet f-u po ochered s kagdim elementom\n",
    "print(m)                         \n",
    "print(list(m))"
   ],
   "cell_type": "code",
   "outputs": [
    {
     "output_type": "stream",
     "name": "stdout",
     "text": "V tela=100\n1320.0\n<map object at 0x0000000004FF4308>\n[240.0, 360.0, 480.0, 600.0, 720.0, 840.0]\n"
    }
   ],
   "metadata": {},
   "execution_count": 1
  },
  {
   "source": [
    "#lambda\n",
    "\n",
    "V= lambda x,y,z: x*y*z                 # lambda (parametry peredavaemie v funkciyu) : (formula vupolneniya funkcii) \n",
    "print(V(a,b,c),\"-obem tela\")"
   ],
   "cell_type": "code",
   "outputs": [
    {
     "output_type": "stream",
     "name": "stdout",
     "text": "100 -obem tela\n"
    }
   ],
   "metadata": {},
   "execution_count": 18
  },
  {
   "source": [
    "# Vstroennie funkcii  https://pythonworld.ru/osnovy/vstroennye-funkcii.html\n",
    "#                     https://pythonworld.ru/osnovy/klyuchevye-slova-modul-keyword.html\n",
    "a=True\n",
    "b=True\n",
    "c=False\n",
    "print(all([a,b,c]))             # Vstr. funkcii. Proverka na True vsex ili odnogo iz elementov. LIST!!!!!         \n",
    "print(any([a,b,c]))      #all([reiting>10 for reiting in (Spisok)])\n",
    "\n",
    "a = (\"hi:\", \"lo:\", \"op:\", \"cl:\")\n",
    "b = [2.00, 1.50, 1.70, 1.80]\n",
    "skleit = list(zip(a,b))        # Skleika 2 spiskov v paru spisok ili slovar. Vupolnyaet tolbko v moment obrasheniya\n",
    "print(skleit)\n"
   ],
   "cell_type": "code",
   "outputs": [
    {
     "output_type": "stream",
     "name": "stdout",
     "text": "False\nTrue\n[('hi:', 2.0), ('lo:', 1.5), ('op:', 1.7), ('cl:', 1.8)]\n"
    }
   ],
   "metadata": {},
   "execution_count": 13
  },
  {
   "cell_type": "code",
   "execution_count": null,
   "metadata": {},
   "outputs": [],
   "source": []
  },
  {
   "cell_type": "code",
   "execution_count": null,
   "metadata": {},
   "outputs": [],
   "source": []
  },
  {
   "cell_type": "code",
   "execution_count": null,
   "metadata": {},
   "outputs": [],
   "source": []
  },
  {
   "cell_type": "code",
   "execution_count": null,
   "metadata": {},
   "outputs": [],
   "source": []
  }
 ]
}