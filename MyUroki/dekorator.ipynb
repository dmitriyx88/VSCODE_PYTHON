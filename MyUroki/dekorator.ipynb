{
 "nbformat": 4,
 "nbformat_minor": 2,
 "metadata": {
  "language_info": {
   "name": "python",
   "codemirror_mode": {
    "name": "ipython",
    "version": 3
   },
   "version": "3.8.1-final"
  },
  "orig_nbformat": 2,
  "file_extension": ".py",
  "mimetype": "text/x-python",
  "name": "python",
  "npconvert_exporter": "python",
  "pygments_lexer": "ipython3",
  "version": 3,
  "kernelspec": {
   "name": "python3",
   "display_name": "Python 3"
  }
 },
 "cells": [
  {
   "source": [
    "# Декораторы это вызов необходимой функции внутри тела обертки WRAP функции. Существует для отладки функции.\n",
    "\n",
    "from functools import wraps\n",
    "\n",
    "def dekorator(input_funktion):\n",
    "    @wraps(input_funktion)\n",
    "    def func_dekoratora(*args):\n",
    "        print(f\"Код который выполняется автоматически перед вызовом функции {input_funktion.__name__}\")\n",
    "        input_funktion()\n",
    "        print(f\"Код который выполняется автоматически после выполнения функции {input_funktion.__name__}\")\n",
    "    return func_dekoratora\n",
    "\n",
    "@dekorator\n",
    "def rabochaya_funkciya():\n",
    "    print(f\" Рабочая функция чево-то там выполняет и принимает значение \")\n",
    "    \n",
    "rabochaya_funkciya()\n",
    "\n",
    "\n"
   ],
   "cell_type": "code",
   "outputs": [
    {
     "output_type": "stream",
     "name": "stdout",
     "text": "Код который выполняется автоматически перед вызовом функции rabochaya_funkciya\n Рабочая функция чево-то там выполняет и принимает значение \nКод который выполняется автоматически после выполнения функции rabochaya_funkciya\n"
    }
   ],
   "metadata": {},
   "execution_count": 43
  },
  {
   "cell_type": "code",
   "execution_count": null,
   "metadata": {},
   "outputs": [],
   "source": []
  }
 ]
}