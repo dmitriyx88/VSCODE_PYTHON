{
 "nbformat": 4,
 "nbformat_minor": 2,
 "metadata": {
  "language_info": {
   "name": "python",
   "codemirror_mode": {
    "name": "ipython",
    "version": 3
   },
   "version": "3.8.1-final"
  },
  "orig_nbformat": 2,
  "file_extension": ".py",
  "mimetype": "text/x-python",
  "name": "python",
  "npconvert_exporter": "python",
  "pygments_lexer": "ipython3",
  "version": 3,
  "kernelspec": {
   "name": "python3",
   "display_name": "Python 3"
  }
 },
 "cells": [
  {
   "source": [
    "#MASSIVU v PYTHON\n",
    "# Type \"LIST\"\n",
    "\n",
    "massiv_list= [\"Telefon\",\"Televizor\"]            #Obyavlenie massiva\n",
    "massiv_list1= [\"Komputer\",\"Holodilnik\"]\n",
    "print(massiv_list[1], \" : \", massiv_list1[1])   #Vuvod nugnogo elementa massiva\n",
    "massiv_list=massiv_list+massiv_list1            #Sliyanie massivov\n",
    "print(massiv_list)\n",
    "massiv_list.append(\"Stiralka\")                  #Dobavlenie elementa massiva\n",
    "print(massiv_list)\n",
    "massiv_list[3]=\"Utug\"                           #Zamena elementa spiska\n",
    "print(massiv_list)\n",
    "x=massiv_list.pop(2)                            #Udalyaet posledniy/po indeksu element.Vozvrasshaet ego v peremennoy\n",
    "print(x, \"   List:\",massiv_list)\n",
    "massiv_list.sort(key=len)                       #Sortiruet spisok. reverse=True,key=len\n",
    "print(massiv_list)\n",
    "massiv_list.reverse()                           #Obratnuy poryadok vseh elementov                            \n",
    "print(massiv_list)\n",
    "massiv_list.insert(2,\"Avtomobil\")               #Vstavlyaet element v serediny spiska\n",
    "print(massiv_list)\n",
    "print(massiv_list.index(\"Telefon\",0,5))         #Vozvrashaet INDEX iskomogo elementa v promegutke 0-5\n",
    "print(massiv_list.count(\"Telefon\"))             #Vozvrashaet kolichestvo iskomuh elementov v spiske\n",
    "copy=massiv_list.copy()                         #Kopiruet spisok. Butb okuratnim estb osobennosti\n",
    "print(massiv_list.clear())                      #Udalyaet vse elementy. Vozvrashaet None"
   ],
   "cell_type": "code",
   "outputs": [
    {
     "output_type": "stream",
     "name": "stdout",
     "text": "Televizor  :  Holodilnik\n['Telefon', 'Televizor', 'Komputer', 'Holodilnik']\n['Telefon', 'Televizor', 'Komputer', 'Holodilnik', 'Stiralka']\n['Telefon', 'Televizor', 'Komputer', 'Utug', 'Stiralka']\nKomputer    List: ['Telefon', 'Televizor', 'Utug', 'Stiralka']\n['Utug', 'Telefon', 'Stiralka', 'Televizor']\n['Televizor', 'Stiralka', 'Telefon', 'Utug']\n['Televizor', 'Stiralka', 'Avtomobil', 'Telefon', 'Utug']\n3\n1\nNone\n"
    }
   ],
   "metadata": {},
   "execution_count": 180
  },
  {
   "source": [
    "# Type \"Dict\"\n",
    "massiv_dict= {\"Dima\":53827,\"Sveta\":75095}                 #Obyavlenie massiva Dict\n",
    "massiv_dict1=dict(Artem=99544,Vika=14789)                 #Obyavlenie massiva Dict\n",
    "print(\"Dict1:\",massiv_dict,\"   Dict2:\",massiv_dict1)\n",
    "print(massiv_dict[\"Dima\"])                                #Vubor znacheniya po kluchu\n",
    "print(massiv_dict1.get(\"Artem\"))                          #Vubor znacheniya po kluchu\n",
    "massiv_dict[\"Polya\"]= \"n/a\"                               #Dobavlyaet novue elementu. Po kluchu menyaet starie\n",
    "print(massiv_dict)\n",
    "del massiv_dict[\"Polya\"]                                  #Udalyaet elementi po kluchu\n",
    "print(massiv_dict)\n",
    "print(massiv_dict.keys())                                 #Vozvrashaet obshiy spisok kluchey\n",
    "print(massiv_dict.values())                               #Vozvrashaet obshiy spisok znacheniy\n",
    "sorted(massiv_dict.keys())                                #Sortirovka vseh kluchey\n",
    "sorted(massiv_dict.values())                              #Sortirovka vseh znacheniy\n",
    "print(\"Dima\" in massiv_dict)                              #Proverka na sushestvuyushee znachenie\n",
    "print(\"Vika\" not in massiv_dict)                          #proverka na otsuctvuyushee znachenie\n",
    "\n",
    "for key, val in massiv_dict.items():                      #prohod ciklom po znacheniyam\n",
    "    print(key,val)\n",
    "print(massiv_dict.pop(\"Dima\"))                            #Udalyaet po kluchu element.Vozvrasshaet ego v peremennoy\n",
    "print(massiv_dict.popitem())                              #Udalyaet posledniy element.\n",
    "print(massiv_dict)\n",
    "print(massiv_dict.setdefault(\"Potalok\"))\n",
    "print(massiv_dict)\n",
    "\n",
    "# V sluchae sravnivaniya 2 spravochnikov megdy soboy, obuchnuy spravochnik sravnivaet tolko sodergimoe bez uceta poryadka zapolneniya. Esli vagen poryadok to ispolzovat: from colections import OrderedDict\n",
    ""
   ],
   "cell_type": "code",
   "outputs": [
    {
     "output_type": "stream",
     "name": "stdout",
     "text": "Dict1: {'Dima': 53827, 'Sveta': 75095}    Dict2: {'Artem': 99544, 'Vika': 14789}\n53827\n99544\n{'Dima': 53827, 'Sveta': 75095, 'Polya': 'n/a'}\n{'Dima': 53827, 'Sveta': 75095}\ndict_keys(['Dima', 'Sveta'])\ndict_values([53827, 75095])\nTrue\nTrue\nDima 53827\nSveta 75095\n53827\n('Sveta', 75095)\n{}\nNone\n{'Potalok': None}\n"
    }
   ],
   "metadata": {},
   "execution_count": 181
  },
  {
   "source": [
    "# Type \"TUPLE\" && \"NamedTuple\"  - Ne izmenyaemiy i ne udalyaemiy spisok\n",
    "\n",
    "massiv_tuple= (\"Oleinik\",\"Dmitriy\",\"Aleksandrovich\",\"0999476550\")            #Obyavlenie massiva\n",
    "print(massiv_tuple[0])\n",
    "\n",
    "from collections import namedtuple                                           #Import classa iz collections\n",
    "fio= namedtuple(\"fio\",\"family name secname tel\")                             #Obyavlenie cortega s imenami\n",
    "\n",
    "fio= [fio(\"Oleinik\",\"Dmitriy\",\"Aleksandrovich\",\"0999476550\"),                #Zapolnenie cortega\n",
    "fio(\"Polovinkina\",\"Svetlana\",\"Vladinerovna\",\"0997675095\")]\n",
    "\n",
    "print(massiv_namedtuple[0].name, massiv_namedtuple[0].tel)                   \n",
    "print(fio)\n",
    "\n",
    ""
   ],
   "cell_type": "code",
   "outputs": [
    {
     "output_type": "stream",
     "name": "stdout",
     "text": "Oleinik\nDmitriy 0999476550\n[fio(family='Oleinik', name='Dmitriy', secname='Aleksandrovich', tel='0999476550'), fio(family='Polovinkina', name='Svetlana', secname='Vladinerovna', tel='0997675095')]\n"
    }
   ],
   "metadata": {},
   "execution_count": 182
  },
  {
   "cell_type": "code",
   "execution_count": null,
   "metadata": {},
   "outputs": [],
   "source": []
  },
  {
   "cell_type": "code",
   "execution_count": null,
   "metadata": {},
   "outputs": [],
   "source": []
  },
  {
   "cell_type": "code",
   "execution_count": null,
   "metadata": {},
   "outputs": [],
   "source": []
  },
  {
   "cell_type": "code",
   "execution_count": null,
   "metadata": {},
   "outputs": [],
   "source": []
  }
 ]
}