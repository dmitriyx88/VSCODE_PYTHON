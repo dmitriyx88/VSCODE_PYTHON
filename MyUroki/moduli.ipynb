{
 "nbformat": 4,
 "nbformat_minor": 2,
 "metadata": {
  "language_info": {
   "name": "python",
   "codemirror_mode": {
    "name": "ipython",
    "version": 3
   },
   "version": "3.8.1-final"
  },
  "orig_nbformat": 2,
  "file_extension": ".py",
  "mimetype": "text/x-python",
  "name": "python",
  "npconvert_exporter": "python",
  "pygments_lexer": "ipython3",
  "version": 3,
  "kernelspec": {
   "name": "python3",
   "display_name": "Python 3"
  }
 },
 "cells": [
  {
   "source": [
    "# MODUlI\n",
    "\n",
    "import os                                    # Import modula\n",
    "import time\n",
    "import random\n",
    "import math as mmm\n",
    "from collections import __all__ as c\n",
    "print(os.getcwd())\n",
    "print(time.localtime())\n",
    "print(random.randint(0,100))\n",
    "print(random.random())\n",
    "print(mmm.log(11))"
   ],
   "cell_type": "code",
   "outputs": [
    {
     "output_type": "stream",
     "name": "stdout",
     "text": "d:\\VSCODE__PYTHON\ntime.struct_time(tm_year=2020, tm_mon=1, tm_mday=28, tm_hour=10, tm_min=46, tm_sec=38, tm_wday=1, tm_yday=28, tm_isdst=0)\n37\n0.5430377724716664\n2.3978952727983707\n"
    }
   ],
   "metadata": {},
   "execution_count": 101
  }
 ]
}