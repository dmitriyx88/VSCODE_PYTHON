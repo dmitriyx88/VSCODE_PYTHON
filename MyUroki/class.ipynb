{
 "nbformat": 4,
 "nbformat_minor": 2,
 "metadata": {
  "language_info": {
   "name": "python",
   "codemirror_mode": {
    "name": "ipython",
    "version": 3
   },
   "version": "3.8.1-final"
  },
  "orig_nbformat": 2,
  "file_extension": ".py",
  "mimetype": "text/x-python",
  "name": "python",
  "npconvert_exporter": "python",
  "pygments_lexer": "ipython3",
  "version": 3,
  "kernelspec": {
   "name": "python3",
   "display_name": "Python 3"
  }
 },
 "cells": [
  {
   "source": [
    "# CLASS \n",
    "\n",
    "class Ludi():\n",
    " \n",
    "    def __init__(self,name,age):\n",
    "        self.name = name\n",
    "        self._age = age                      # Скрытие вне класса переменной\n",
    "        self.god_rogd = 2020-age\n",
    "        \n",
    "    def god_rogd1(self):\n",
    "         self.god_rogd= 2020 - self.age\n",
    "         return self.god_rogd\n",
    "    \n",
    "    @property                        # Дает возможность прочитать скрытую в классе переменную, переназначив ее\n",
    "    def age(self):\n",
    "        return self._age\n",
    "\n",
    "    @age.setter                      # Блок отрабатывает при прямом изменнии переменной \n",
    "    def age(self, age):\n",
    "        if age <0: print(\"не корректное значение\")\n",
    "        elif age <18: print(\"Замечен нe совершеннолетний\")\n",
    "        elif age >60: print(\"Дедуля, шли бы вы\")\n",
    "        else: print(\"Приветствуем тебя пользователь\")\n",
    "    \n",
    "    \n",
    "    def strL(self):\n",
    "        x = f\":{self.god_rogd}:Мальчику {self.name}  {self._age} лет, он родился в {self.god_rogd1()} году. Значение переменной {self.god_rogd}\"\n",
    "        return x\n",
    "\n",
    "a = Ludi(\"Мамед\",70)\n",
    "print(a.name)\n",
    "print(a.age)\n",
    "a.age=15\n",
    "print(a.god_rogd1())\n",
    "a.strL()\n",
    ""
   ],
   "cell_type": "code",
   "outputs": [
    {
     "output_type": "stream",
     "name": "stdout",
     "text": "Мамед\n70\nЗамечен нe совершеннолетний\n1950\n"
    },
    {
     "output_type": "execute_result",
     "data": {
      "text/plain": "':1950:Мальчику Мамед  70 лет, он родился в 1950 году. Значение переменной 1950'"
     },
     "metadata": {},
     "execution_count": 4
    }
   ],
   "metadata": {},
   "execution_count": 4
  },
  {
   "cell_type": "code",
   "execution_count": null,
   "metadata": {},
   "outputs": [],
   "source": []
  }
 ]
}