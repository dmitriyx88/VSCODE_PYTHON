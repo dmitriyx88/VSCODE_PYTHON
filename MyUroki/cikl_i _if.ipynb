{
 "nbformat": 4,
 "nbformat_minor": 2,
 "metadata": {
  "language_info": {
   "name": "python",
   "codemirror_mode": {
    "name": "ipython",
    "version": 3
   },
   "version": "3.8.1-final"
  },
  "orig_nbformat": 2,
  "file_extension": ".py",
  "mimetype": "text/x-python",
  "name": "python",
  "npconvert_exporter": "python",
  "pygments_lexer": "ipython3",
  "version": 3,
  "kernelspec": {
   "name": "python3",
   "display_name": "Python 3"
  }
 },
 "cells": [
  {
   "source": [
    "#CiKLU I VETVLENIE\n",
    "\n",
    "###IF\n",
    "a=False; b=False; c=False\n",
    "if a==True:                                 #Vetvlenie. Operator IF(ESLI)  ELIF(INACHE ESLI)    ELSE(INACHE)\n",
    "    print(f\"a={a} \")\n",
    "elif b==True:\n",
    "    print(f\"b={b}\")\n",
    "else: \n",
    "    print(f\"a={a}, b={b} not True\")\n",
    "\n",
    "a=True; b=True; c=False; d=False\n",
    "if a and (b or c) and not d:                          # and=i      or=ili      not=False\n",
    "    print(f\"a={a}, b or c =True and d={d}\")\n",
    "else: \n",
    "    print(f\"a={a}\")\n",
    "\n",
    "print(\"Kratkaya zapisb rabotaet\") if a else print(\"ne rabotaet\")"
   ],
   "cell_type": "code",
   "outputs": [
    {
     "output_type": "stream",
     "name": "stdout",
     "text": "a=False, b=False not True\na=True, b or c =True and d=False\nKratkaya zapisb rabotaet\n"
    }
   ],
   "metadata": {},
   "execution_count": 1
  },
  {
   "source": [
    "#CiKL WHILE\n",
    "\n",
    "name = [\"Dima\",\"Sveta\",\"Artem\"]\n",
    "x=0\n",
    "while x<10:\n",
    "    x=x+1\n",
    "    if x<3: continue\n",
    "    print(name)\n",
    "    if x>7: break\n",
    "else: print(\"x!<3\") "
   ],
   "cell_type": "code",
   "outputs": [
    {
     "output_type": "stream",
     "name": "stdout",
     "text": "['Dima', 'Sveta', 'Artem']\n['Dima', 'Sveta', 'Artem']\n['Dima', 'Sveta', 'Artem']\n['Dima', 'Sveta', 'Artem']\n['Dima', 'Sveta', 'Artem']\n['Dima', 'Sveta', 'Artem']\n"
    }
   ],
   "metadata": {},
   "execution_count": 21
  },
  {
   "source": [
    "# CIKL FOR\n",
    "x=0\n",
    "for x in \"Privet\":\n",
    "    print(x)\n",
    "\n",
    "x=0\n",
    "for x in name:\n",
    "    print(x)\n",
    "\n",
    "x=0; y=0; d=15\n",
    "for x in range(0,10000):\n",
    "    if x%d==0:\n",
    "        y=y+1\n",
    "print(f\"Na {d} delitsya {y} chisel is 10000\")\n",
    "\n",
    "    "
   ],
   "cell_type": "code",
   "outputs": [
    {
     "output_type": "stream",
     "name": "stdout",
     "text": "P\nr\ni\nv\ne\nt\n \nm\ni\nr\nDima\nSveta\nArtem\nNa 15 delitsya 667 chisel is 10000\n"
    }
   ],
   "metadata": {},
   "execution_count": 58
  },
  {
   "cell_type": "code",
   "execution_count": null,
   "metadata": {},
   "outputs": [],
   "source": []
  },
  {
   "cell_type": "code",
   "execution_count": null,
   "metadata": {},
   "outputs": [],
   "source": []
  },
  {
   "cell_type": "code",
   "execution_count": null,
   "metadata": {},
   "outputs": [],
   "source": []
  },
  {
   "cell_type": "code",
   "execution_count": null,
   "metadata": {},
   "outputs": [],
   "source": []
  }
 ]
}