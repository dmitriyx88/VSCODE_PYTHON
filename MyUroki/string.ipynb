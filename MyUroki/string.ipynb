{
 "nbformat": 4,
 "nbformat_minor": 2,
 "metadata": {
  "language_info": {
   "name": "python",
   "codemirror_mode": {
    "name": "ipython",
    "version": 3
   },
   "version": "3.8.1-final"
  },
  "orig_nbformat": 2,
  "file_extension": ".py",
  "mimetype": "text/x-python",
  "name": "python",
  "npconvert_exporter": "python",
  "pygments_lexer": "ipython3",
  "version": 3,
  "kernelspec": {
   "name": "python3",
   "display_name": "Python 3"
  }
 },
 "cells": [
  {
   "source": [
    "#EKRANIROVANIE (https://pythonworld.ru/tipy-dannyx-v-python/stroki-literaly-strok.html)\n",
    "text=\"Privet, i am \\\"progrmist\\\"\"     #Vnytrennie kovuchki dolgni ekranirovatsa\n",
    "print(text)\n",
    "text1=\"Privet, \\ni am \\\"progrmist\\\"\"  #Perenos stroki \\n\n",
    "print(text1)\n",
    "adress=\"c:\\Programs\\vscode\"           #Ne pravilno. Nugni ekrani \\\n",
    "adress1=\"c:\\\\Programs\\\\vscode\"        #Pravilno, no ne udobno\n",
    "adress2=r\"c:\\Programs\\vscode\"         #Pravilno, udobno\n",
    "print(adress)\n",
    "print(adress1)\n",
    "print(adress2)"
   ],
   "cell_type": "code",
   "outputs": [
    {
     "output_type": "stream",
     "name": "stdout",
     "text": "Privet, i am \"progrmist\"\nPrivet, \ni am \"progrmist\"\nc:\\Programs\u000bscode\nc:\\Programs\\vscode\nc:\\Programs\\vscode\n"
    }
   ],
   "metadata": {},
   "execution_count": 13
  },
  {
   "source": [
    "#INDEKSIROVANIE STROK\n",
    "len(text)                            #Podschet simvolov v stroke            \n",
    "print(text[0:5])                     #Vubor simvolov ot i __DO__\n",
    "print(text[7:len(text)])             #Vubor simvolov ot 7 do konca (mogno vuchetat simvolu -2,-3)\n",
    "print(text[::2])                     #Vubor simvolov s shagom\n",
    "print(text[::-1])                    #Vubor simvolov v obratnom poryadke"
   ],
   "cell_type": "code",
   "outputs": [
    {
     "output_type": "stream",
     "name": "stdout",
     "text": "Prive\n menya zovut Dmitriy, mne 31 let. Moy E-mail dlya svyazi:dmitriyx@bk.ru\nPie,mnazvtDiry n 1lt o -aldy vaidiry@kr\nur.kb@xyirtimd:izayvs ayld liam-E yoM .tel 13 enm ,yirtimD tuvoz aynem ,tevirP\n"
    }
   ],
   "metadata": {},
   "execution_count": 54
  },
  {
   "source": [
    "#FORMATIROVANIE STROK (ZAPOLNITELI)       (https://pythonworld.ru/osnovy/formatirovanie-strok-metod-format.html)\n",
    "name=\"Dmitriy\"\n",
    "vozrast= 31 \n",
    "email= \"dmitriyx@bk.ru\"\n",
    "text = \"Privet, menya zovut %s, mne %s let. Moy E-mail dlya svyazi:%s\" %(name,vozrast,email) \n",
    "text1 = \"Privet, menya zovut {1}, mne {2} let. Moy E-mail dlya svyazi:{0}\".format(name,vozrast,email)\n",
    "text2 = \"Privet, menya zovut {n}, mne {age:15.5f} let. Moy E-mail dlya svyazi:{mail}\".format(n=name,age=vozrast,mail=email)\n",
    "text3 = f\"Privet, menya zovut {name}, mne {vozrast} let. Moy E-mail dlya svyazi:{email}\"\n",
    "\n",
    "print(text)\n",
    "print(text1)\n",
    "print(text2)\n",
    "print(text3)"
   ],
   "cell_type": "code",
   "outputs": [
    {
     "output_type": "stream",
     "name": "stdout",
     "text": "Privet, menya zovut Dmitriy, mne 31 let. Moy E-mail dlya svyazi:dmitriyx@bk.ru\nPrivet, menya zovut 31, mne dmitriyx@bk.ru let. Moy E-mail dlya svyazi:Dmitriy\nPrivet, menya zovut Dmitriy, mne        31.00000 let. Moy E-mail dlya svyazi:dmitriyx@bk.ru\nPrivet, menya zovut Dmitriy, mne 31 let. Moy E-mail dlya svyazi:dmitriyx@bk.ru\n"
    }
   ],
   "metadata": {},
   "execution_count": 73
  },
  {
   "source": [
    "### STROKOVUE FUNKCII      (https://pythonworld.ru/tipy-dannyx-v-python/stroki-funkcii-i-metody-strok.html)\n",
    "print(text.count(\"i\"))                    #Podschet kolicestva interisuushih simvolov \n",
    "print(text.capitalize())                  #Vozvrashaet 1-uyu zaglavnuyu ostalnie malenkie bukvi\n",
    "print(text.upper())      #text.lower()    #Perevod vsego v verhniy/nizhniy registr\n",
    "print(text.isupper())    #text.islower()  #Proverka vsego na vse li simvoly v verhnem/nizhnem registre\n",
    "print(text.find(\"Dmitriy\",5,30))          #Ishet nuzhniy tekst v stroke i vivodit nomer simvola. Vubor perioda s-po\n",
    "print(\"123qazwx\".isalnum())               #Proverka. Bukvi+cifri=true\n",
    "print(\"qazwsx\".isalpha())                 #Proverka. Vse Bukvi=true\n",
    "print(\"123\".isnumeric())                  #Proverka. Vse cifri=true\n",
    "print(\"  \".isspace())    #\"\".isspace()    #Proverka. Vse simvoly probely=true\n",
    "print(\"  1\".strip(\" \"))  #text.strip(\" \") #Udalyaet s nachala i konca probeli libo drugoi vibrannui simvol\n",
    "print(text.startswith(\"Privet\"))          #Proverka. Nachalo/konec stroki=\"Privet\"=True. # text.endswith(\"bk.ru\")\n",
    "print(text.split(\" \"))                    #Vozvrashaet stroky typa LIST. I delit ee po razdelitelu"
   ],
   "cell_type": "code",
   "outputs": [
    {
     "output_type": "stream",
     "name": "stdout",
     "text": "7\nPrivet, menya zovut dmitriy, mne 31 let. moy e-mail dlya svyazi:dmitriyx@bk.ru\nPRIVET, MENYA ZOVUT DMITRIY, MNE 31 LET. MOY E-MAIL DLYA SVYAZI:DMITRIYX@BK.RU\nFalse\n20\nTrue\nTrue\nTrue\nTrue\n1\nTrue\n['Privet,', 'menya', 'zovut', 'Dmitriy,', 'mne', '31', 'let.', 'Moy', 'E-mail', 'dlya', 'svyazi:dmitriyx@bk.ru']\n"
    }
   ],
   "metadata": {},
   "execution_count": 58
  }
 ]
}