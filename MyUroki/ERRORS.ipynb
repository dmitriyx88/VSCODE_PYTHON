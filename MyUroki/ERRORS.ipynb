{
 "nbformat": 4,
 "nbformat_minor": 2,
 "metadata": {
  "language_info": {
   "name": "python",
   "codemirror_mode": {
    "name": "ipython",
    "version": 3
   },
   "version": "3.8.1-final"
  },
  "orig_nbformat": 2,
  "file_extension": ".py",
  "mimetype": "text/x-python",
  "name": "python",
  "npconvert_exporter": "python",
  "pygments_lexer": "ipython3",
  "version": 3,
  "kernelspec": {
   "name": "python3",
   "display_name": "Python 3"
  }
 },
 "cells": [
  {
   "source": [
    "# Обработчик ошибок\n",
    "\n",
    "#k = 5/0                         На 0 делить нельзя. Возвращае ошибку ZeroDivisionError\n",
    "\n",
    "try:\n",
    "    k=5/0\n",
    "except ZeroDivisionError as oshibka:\n",
    "    print(f\"При делении на 0 возникла ошибка: {oshibka}\")\n",
    "finally: \n",
    "    print(f\"Код который должен исполнится даже при ошибке\")"
   ],
   "cell_type": "code",
   "outputs": [
    {
     "output_type": "stream",
     "name": "stdout",
     "text": "При делении на 0 возникла ошибка: division by zero\nКод который должен исполнится даже при ошибке\n"
    }
   ],
   "metadata": {},
   "execution_count": 9
  },
  {
   "cell_type": "code",
   "execution_count": null,
   "metadata": {},
   "outputs": [],
   "source": []
  },
  {
   "source": [
    "# Пользовательские исключения\n",
    "\n",
    "class ImyaIsklucheniya(Exception):\n",
    "    \"\"\"Здесь прописывается ошибка пользовательского исключения\"\"\"\n",
    "\n",
    "a = -10\n",
    "b = 20\n",
    "c = 30\n",
    "\n",
    "def perimetr(q,w,e):  \n",
    "    if q<=0 or w<=0 or e<=0:\n",
    "        raise ImyaIsklucheniya(\"Одно из выражений меньше или равно 0\")\n",
    "    p = q+w+e\n",
    "    return p\n",
    "\n",
    "try:\n",
    "    v= perimetr(a, b, c)\n",
    "    print(v)\n",
    "except ImyaIsklucheniya as MyError:\n",
    "    print(f\"Возникло пользовательское исключение {MyError}\")\n",
    "else: print(p)"
   ],
   "cell_type": "code",
   "outputs": [
    {
     "output_type": "stream",
     "name": "stdout",
     "text": "Возникло пользовательское исключение Одно из выражений меньше или равно 0\n"
    }
   ],
   "metadata": {},
   "execution_count": 22
  },
  {
   "cell_type": "code",
   "execution_count": null,
   "metadata": {},
   "outputs": [],
   "source": []
  }
 ]
}