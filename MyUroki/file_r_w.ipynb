{
 "nbformat": 4,
 "nbformat_minor": 2,
 "metadata": {
  "language_info": {
   "name": "python",
   "codemirror_mode": {
    "name": "ipython",
    "version": 3
   },
   "version": "3.8.1-final"
  },
  "orig_nbformat": 2,
  "file_extension": ".py",
  "mimetype": "text/x-python",
  "name": "python",
  "npconvert_exporter": "python",
  "pygments_lexer": "ipython3",
  "version": 3,
  "kernelspec": {
   "name": "python3",
   "display_name": "Python 3"
  }
 },
 "cells": [
  {
   "source": [
    "## FILE\n",
    "#open(r\"d:\\VSCODE_PYTHON\\file1.txt\" mode=w"
   ],
   "cell_type": "code",
   "outputs": [],
   "metadata": {},
   "execution_count": 17
  },
  {
   "source": [
    "%%writefile file1.txt                                  \n",
    "ModeOpen;Naznachenie\n",
    "\"r\";ReadOnly\n",
    "\"w\";WriteOnly.Perezapisuvaet sozdannie failu.Mozhet sozdavatb nowie\n",
    "\"a\";Dobawit V konec. \n",
    "\"r+\";Chtenie i zapis failov. Nowie failu ne sozdaet\n",
    "\"w+\";Chtenie i zapis failov. Perezapisuvaet sozdannie failu.Mozhet sozdavatb nowie\n",
    ""
   ],
   "cell_type": "code",
   "outputs": [
    {
     "output_type": "stream",
     "name": "stdout",
     "text": "Overwriting file1.txt\n"
    }
   ],
   "metadata": {},
   "execution_count": 94
  },
  {
   "source": [
    "of=open(r\"d:\\VSCODE__PYTHON\\file1.txt\", mode=\"r\" )  #Otkruvaem file v peremennuyu. Budet sodergat tex.dannie o file\n",
    "if of:\n",
    "    print(\"File open: OK\")                    \n",
    "    txt_read=of.read()                #Schituvaem sodergimoe fila v peremennuyu \"KAK ESTb\"\n",
    "    of.seek(0)                        #Vozvrat cursora/coretky v nachalo, dly povtornogo chteniya fila\n",
    "    print(txt_read)\n",
    "    print(\"2 raz\")\n",
    "    txt_read=of.readlines()           #Schituvaem sodergimoe fila v peremennuyu tipa List-spisok\n",
    "    print(txt_read)\n",
    "    of.close()\n",
    "if of.closed:\n",
    "    print(\"Fail zakrut:\",of.closed)\n",
    "\n",
    ""
   ],
   "cell_type": "code",
   "outputs": [
    {
     "output_type": "stream",
     "name": "stdout",
     "text": "File open: OK\nii drugie;dostupnie metodu \ndOnly\n\"w\";WriteOnly.Perezapisuvaet sozdannie failu.Mozhet sozdavatb nowie\n\"a\";Dobawit V konec. \n\"r+\";Chtenie i zapis failov. Nowie failu ne sozdaet\n\"w+\";Chtenie i zapis failov. Perezapisuvaet sozdannie failu.Mozhet sozdavatb nowie\ni drugie;dostupnie metodu \ni drugie;dostupnie metodu \n\n2 raz\n['ii drugie;dostupnie metodu \\n', 'dOnly\\n', '\"w\";WriteOnly.Perezapisuvaet sozdannie failu.Mozhet sozdavatb nowie\\n', '\"a\";Dobawit V konec. \\n', '\"r+\";Chtenie i zapis failov. Nowie failu ne sozdaet\\n', '\"w+\";Chtenie i zapis failov. Perezapisuvaet sozdannie failu.Mozhet sozdavatb nowie\\n', 'i drugie;dostupnie metodu \\n', 'i drugie;dostupnie metodu \\n']\nFail zakrut: True\n"
    }
   ],
   "metadata": {},
   "execution_count": 126
  },
  {
   "source": [
    "with open(r\"d:\\VSCODE__PYTHON\\file1.txt\") as of1:\n",
    "    print(of1)\n",
    "    txt_read=of1.read()                #Schituvaem sodergimoe fila v peremennuyu \"KAK ESTb\"\n",
    "    of1.seek(0)                        #Vozvrat cursora/coretky v nachalo, dly povtornogo chteniya fila\n",
    "    print(txt_read)\n",
    "\n",
    ""
   ],
   "cell_type": "code",
   "outputs": [
    {
     "output_type": "stream",
     "name": "stdout",
     "text": "<_io.TextIOWrapper name='d:\\\\VSCODE__PYTHON\\\\file1.txt' mode='r' encoding='cp1251'>\nii drugie;dostupnie metodu \ndOnly\n\"w\";WriteOnly.i drugie;dostupnie metodu \nlu.Mozhet sozdavatb nowie\n\"a\";Dobawit V konec. \n\"r+\";Chtenie i zapis failov. Nowie failu ne sozdaet\n\"w+\";Chtenie i zapis failov. Perezapisuvaet sozdannie failu.Mozhet sozdavatb nowie\ni drugie;dostupnie metodu \ni drugie;dostupnie metodu \n\n"
    }
   ],
   "metadata": {},
   "execution_count": 132
  },
  {
   "source": [
    "with open(r\"d:\\VSCODE__PYTHON\\file1.txt\", mode=\"r+\") as of2:\n",
    "    of2.seek(50,0)                                    #seek(0,?)  0-s nachala,1-tekushee, 2-s konca \n",
    "    of2.write(\"i drugie;dostupnie metodu \\n\")"
   ],
   "cell_type": "code",
   "outputs": [],
   "metadata": {},
   "execution_count": 131
  },
  {
   "cell_type": "code",
   "execution_count": null,
   "metadata": {},
   "outputs": [],
   "source": []
  }
 ]
}